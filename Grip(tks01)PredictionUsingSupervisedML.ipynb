{
 "cells": [
  {
   "cell_type": "markdown",
   "id": "ebe87005",
   "metadata": {},
   "source": [
    "# Prediction Using Supervised ML \n",
    "\n",
    "### Task list: \n",
    "1) predict the percentage of an student based on the no. of study hours.\n",
    "\n",
    "2) this is a simple linear regression task as it envolves just 2 variables.\n",
    "\n",
    "3) you can use R or Pyhton \n",
    "\n",
    "4) Dataset: http://bit.ly/w-data\n",
    "\n",
    "5) What will be predicted score if a student studies for 9.25hrs/day ? \n",
    "\n",
    "6) sample solution: https://bit.ly/2HxiGGJ "
   ]
  },
  {
   "cell_type": "code",
   "execution_count": 30,
   "id": "4cd3719a",
   "metadata": {},
   "outputs": [
    {
     "data": {
      "text/html": [
       "<div>\n",
       "<style scoped>\n",
       "    .dataframe tbody tr th:only-of-type {\n",
       "        vertical-align: middle;\n",
       "    }\n",
       "\n",
       "    .dataframe tbody tr th {\n",
       "        vertical-align: top;\n",
       "    }\n",
       "\n",
       "    .dataframe thead th {\n",
       "        text-align: right;\n",
       "    }\n",
       "</style>\n",
       "<table border=\"1\" class=\"dataframe\">\n",
       "  <thead>\n",
       "    <tr style=\"text-align: right;\">\n",
       "      <th></th>\n",
       "      <th>Hours</th>\n",
       "      <th>Scores</th>\n",
       "    </tr>\n",
       "  </thead>\n",
       "  <tbody>\n",
       "    <tr>\n",
       "      <th>count</th>\n",
       "      <td>25.000000</td>\n",
       "      <td>25.000000</td>\n",
       "    </tr>\n",
       "    <tr>\n",
       "      <th>mean</th>\n",
       "      <td>5.012000</td>\n",
       "      <td>51.480000</td>\n",
       "    </tr>\n",
       "    <tr>\n",
       "      <th>std</th>\n",
       "      <td>2.525094</td>\n",
       "      <td>25.286887</td>\n",
       "    </tr>\n",
       "    <tr>\n",
       "      <th>min</th>\n",
       "      <td>1.100000</td>\n",
       "      <td>17.000000</td>\n",
       "    </tr>\n",
       "    <tr>\n",
       "      <th>25%</th>\n",
       "      <td>2.700000</td>\n",
       "      <td>30.000000</td>\n",
       "    </tr>\n",
       "    <tr>\n",
       "      <th>50%</th>\n",
       "      <td>4.800000</td>\n",
       "      <td>47.000000</td>\n",
       "    </tr>\n",
       "    <tr>\n",
       "      <th>75%</th>\n",
       "      <td>7.400000</td>\n",
       "      <td>75.000000</td>\n",
       "    </tr>\n",
       "    <tr>\n",
       "      <th>max</th>\n",
       "      <td>9.200000</td>\n",
       "      <td>95.000000</td>\n",
       "    </tr>\n",
       "  </tbody>\n",
       "</table>\n",
       "</div>"
      ],
      "text/plain": [
       "           Hours     Scores\n",
       "count  25.000000  25.000000\n",
       "mean    5.012000  51.480000\n",
       "std     2.525094  25.286887\n",
       "min     1.100000  17.000000\n",
       "25%     2.700000  30.000000\n",
       "50%     4.800000  47.000000\n",
       "75%     7.400000  75.000000\n",
       "max     9.200000  95.000000"
      ]
     },
     "metadata": {},
     "output_type": "display_data"
    },
    {
     "data": {
      "image/png": "[encoded data removed]",
      "text/plain": [
       "<Figure size 432x288 with 1 Axes>"
      ]
     },
     "metadata": {},
     "output_type": "display_data"
    },
    {
     "name": "stdout",
     "output_type": "stream",
     "text": [
      "The predicted score of a student who dedicates 9.25 hours per day to their studies is:  92.91\n"
     ]
    }
   ],
   "source": [
    "# Basics data explorations ...\n",
    "\n",
    "# import the necessary library ...\n",
    "import pandas as pd\n",
    "\n",
    "# Read CSV file from a URL\n",
    "url = 'http://bit.ly/w-data'\n",
    "df = pd.read_csv(url)\n",
    "\n",
    "# basics data exploration the dataset \n",
    "display(df.describe())\n",
    "\n",
    "# a visual representation o the data \n",
    "import seaborn as sns \n",
    "import matplotlib.pyplot as plt\n",
    "sns.set_style('darkgrid')\n",
    "sns.lineplot(data= df, x='Hours', y='Scores')\n",
    "plt.title(\"Hours vs Scores\")\n",
    "plt.show()\n",
    "\n",
    "\n",
    "# What will be predicted score if a student studies for 9.25hrs/day ?\n",
    "# import the necessary packages...\n",
    "from statsmodels.formula.api  import ols \n",
    "\n",
    "ols_model = ols(\"Scores ~ Hours\", data=df).fit()\n",
    "prediction = ols_model.predict({\"Hours\": 9.25})\n",
    "\n",
    "print('The predicted score of a student who dedicates 9.25 hours per day to their studies is: ', prediction[0].round(2))\n"
   ]
  },
  {
   "cell_type": "markdown",
   "id": "217513b1",
   "metadata": {},
   "source": [
    "## Overview\n",
    "\n",
    "  Based on the results presented above, it is clear that hard work pays off. As a wise individual once said, \"...time is so powerful that whatsoever you invest your time in, you become...\". This serves as an undeniable illustration of the truth behind that statement. \n",
    "  I want to express my gratitude to everyone who has read this far. Thank you for your time and attention. I look forward to sharing my next project with you."
   ]
  },
  {
   "cell_type": "code",
   "execution_count": null,
   "id": "84d0051b",
   "metadata": {},
   "outputs": [],
   "source": []
  }
 ],
 "metadata": {
  "kernelspec": {
   "display_name": "Python 3 (ipykernel)",
   "language": "python",
   "name": "python3"
  },
  "language_info": {
   "codemirror_mode": {
    "name": "ipython",
    "version": 3
   },
   "file_extension": ".py",
   "mimetype": "text/x-python",
   "name": "python",
   "nbconvert_exporter": "python",
   "pygments_lexer": "ipython3",
   "version": "3.9.12"
  }
 },
 "nbformat": 4,
 "nbformat_minor": 5
}
